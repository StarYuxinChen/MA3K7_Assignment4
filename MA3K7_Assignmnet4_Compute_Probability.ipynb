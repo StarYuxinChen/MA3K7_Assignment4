{
 "cells": [
  {
   "cell_type": "code",
   "execution_count": 1,
   "id": "b943afc4-43d0-4c40-8baf-bbf3c0f6945e",
   "metadata": {
    "tags": []
   },
   "outputs": [
    {
     "data": {
      "text/plain": [
       "0.625"
      ]
     },
     "execution_count": 1,
     "metadata": {},
     "output_type": "execute_result"
    }
   ],
   "source": [
    "from math import comb\n",
    "\n",
    "# Calculating the probability for landing on step 4\n",
    "P = comb(3, 0) / 2**3 + comb(2, 1) / 2**2\n",
    "P\n"
   ]
  },
  {
   "cell_type": "code",
   "execution_count": 6,
   "id": "e4ccdb33-ce7d-4206-b500-49344a51b4a7",
   "metadata": {
    "tags": []
   },
   "outputs": [
    {
     "name": "stdout",
     "output_type": "stream",
     "text": [
      "Estimated probability of landing on step 4: 0.6250775\n"
     ]
    }
   ],
   "source": [
    "import random\n",
    "\n",
    "def simulate_game():\n",
    "    position = 1\n",
    "    for _ in range(12):\n",
    "        toss_result = random.choice([1, 2])  # Simulating the coin toss\n",
    "        position += toss_result\n",
    "        if position == 4:\n",
    "            return True  # The game landed on step 4\n",
    "    return False  # The game did not land on step 4\n",
    "\n",
    "# Running the simulation multiple times to estimate the probability\n",
    "simulations = 10000000\n",
    "successes = sum(simulate_game() for _ in range(simulations))\n",
    "estimated_probability = successes / simulations\n",
    "\n",
    "print(f\"Estimated probability of landing on step 4: {estimated_probability}\")\n"
   ]
  },
  {
   "cell_type": "code",
   "execution_count": 7,
   "id": "53879c73-602f-491e-85ba-7d0cf79cae80",
   "metadata": {
    "tags": []
   },
   "outputs": [
    {
     "name": "stdout",
     "output_type": "stream",
     "text": [
      "Estimated probability of landing on step 25: 0.6665939\n"
     ]
    }
   ],
   "source": [
    "def simulate_game():\n",
    "    position = 1\n",
    "    for _ in range(24):\n",
    "        toss_result = random.choice([1, 2])  # Simulating the coin toss\n",
    "        position += toss_result\n",
    "        if position == 25:\n",
    "            return True  # The game landed on step 4\n",
    "    return False  # The game did not land on step 4\n",
    "\n",
    "# Running the simulation multiple times to estimate the probability\n",
    "simulations = 10000000\n",
    "successes = sum(simulate_game() for _ in range(simulations))\n",
    "estimated_probability = successes / simulations\n",
    "\n",
    "print(f\"Estimated probability of landing on step 25: {estimated_probability}\")\n"
   ]
  },
  {
   "cell_type": "code",
   "execution_count": null,
   "id": "796ffd1f-b360-40c2-85be-925896bebd5e",
   "metadata": {},
   "outputs": [],
   "source": []
  }
 ],
 "metadata": {
  "kernelspec": {
   "display_name": "Python 3 (ipykernel)",
   "language": "python",
   "name": "python3"
  },
  "language_info": {
   "codemirror_mode": {
    "name": "ipython",
    "version": 3
   },
   "file_extension": ".py",
   "mimetype": "text/x-python",
   "name": "python",
   "nbconvert_exporter": "python",
   "pygments_lexer": "ipython3",
   "version": "3.11.5"
  }
 },
 "nbformat": 4,
 "nbformat_minor": 5
}
